{
 "cells": [
  {
   "cell_type": "markdown",
   "id": "1872bcda-97a6-4757-936a-8a510c647b4f",
   "metadata": {},
   "source": [
    "# Data Science Tools and Ecosystem\n",
    "### This is notebook, Data Science Tools and Ecosystem are summarized."
   ]
  },
  {
   "cell_type": "markdown",
   "id": "977efc44-ff0f-4f18-9d0a-c9bc8f8d0632",
   "metadata": {},
   "source": [
    "## Author\n",
    "##### Victoria Taranenko"
   ]
  },
  {
   "cell_type": "markdown",
   "id": "6fde5d42-6f57-49b0-acb7-4c348b0c7c34",
   "metadata": {},
   "source": [
    "__Objectives:__\n",
    "* List of popular languages in data science\n",
    "* List if common libraries is DS\n",
    "* Data science tools\n",
    "* Arithmetics exercises"
   ]
  },
  {
   "cell_type": "markdown",
   "id": "98f109c5-2dac-462b-84d9-e424b1a7a6b4",
   "metadata": {},
   "source": [
    "#### Some of the popular languages that Data Scientists use are:\n",
    "* Python\n",
    "* R\n",
    "* Java\n",
    "* SQL"
   ]
  },
  {
   "cell_type": "markdown",
   "id": "d351b6d8-fb68-4938-b113-2c025d579ab0",
   "metadata": {},
   "source": [
    "#### Some of the commonly libraries used by Data Scientists include:\n",
    "1. NumPy\n",
    "2. Matplotlib\n",
    "3. Pandas\n",
    "4. SciPy\n",
    "5. PyTorch\n",
    "6. Seaborn"
   ]
  },
  {
   "cell_type": "markdown",
   "id": "da2e0d4d-1b54-4384-9af8-dd622e92e30b",
   "metadata": {},
   "source": [
    "| Data Science Tools |\n",
    "|--------------------|\n",
    "| RStudio |\n",
    "| Jupyter Lab |\n",
    "| VS Code |\n",
    "| MatLab |\n"
   ]
  },
  {
   "cell_type": "markdown",
   "id": "ee0ea8a9-ef5c-4065-abd2-68c464d6c455",
   "metadata": {},
   "source": [
    "## Below are few examples of evaluating arithmetic expressions in Python:"
   ]
  },
  {
   "cell_type": "code",
   "execution_count": 1,
   "id": "d3c6d5cc-d9dd-42df-a92f-9a2d2e5a7428",
   "metadata": {},
   "outputs": [
    {
     "data": {
      "text/plain": [
       "10"
      ]
     },
     "execution_count": 1,
     "metadata": {},
     "output_type": "execute_result"
    }
   ],
   "source": [
    "5+5"
   ]
  },
  {
   "cell_type": "code",
   "execution_count": 2,
   "id": "d872436e-1fe2-41e1-a0b3-bfb09e0ee53f",
   "metadata": {},
   "outputs": [
    {
     "data": {
      "text/plain": [
       "53"
      ]
     },
     "execution_count": 2,
     "metadata": {},
     "output_type": "execute_result"
    }
   ],
   "source": [
    "60-7"
   ]
  },
  {
   "cell_type": "code",
   "execution_count": 3,
   "id": "eedcd03e-41be-4a1d-8331-2cb0c64d784f",
   "metadata": {},
   "outputs": [
    {
     "data": {
      "text/plain": [
       "30.0"
      ]
     },
     "execution_count": 3,
     "metadata": {},
     "output_type": "execute_result"
    }
   ],
   "source": [
    "90/3"
   ]
  },
  {
   "cell_type": "code",
   "execution_count": 4,
   "id": "97344844-7c1b-43f6-9719-f7d389a1e0bd",
   "metadata": {},
   "outputs": [
    {
     "data": {
      "text/plain": [
       "2200"
      ]
     },
     "execution_count": 4,
     "metadata": {},
     "output_type": "execute_result"
    }
   ],
   "source": [
    "50*44"
   ]
  },
  {
   "cell_type": "code",
   "execution_count": 5,
   "id": "6d6c26ca-0dd2-4f60-8a35-2b6785716cb2",
   "metadata": {},
   "outputs": [
    {
     "data": {
      "text/plain": [
       "17"
      ]
     },
     "execution_count": 5,
     "metadata": {},
     "output_type": "execute_result"
    }
   ],
   "source": [
    "(3*4)+5\n",
    "# This is a simple arithmetic expression to multiply then add integers"
   ]
  },
  {
   "cell_type": "code",
   "execution_count": 6,
   "id": "d4966779-3755-44df-9e5f-de195019ca91",
   "metadata": {},
   "outputs": [
    {
     "name": "stdout",
     "output_type": "stream",
     "text": [
      "03:20\n"
     ]
    }
   ],
   "source": [
    "# This program will convert 200 minutes to hours by dividing by 60\n",
    "minutes = 200\n",
    "print(\"%02d:%02d\" % (divmod(minutes, 60)))"
   ]
  },
  {
   "cell_type": "code",
   "execution_count": null,
   "id": "79e4e96b-5de1-4f18-840a-1432e85e0ab8",
   "metadata": {},
   "outputs": [],
   "source": []
  },
  {
   "cell_type": "code",
   "execution_count": 7,
   "id": "4ed5864c-c88b-42c5-aacf-e8c64bd59111",
   "metadata": {},
   "outputs": [
    {
     "name": "stdin",
     "output_type": "stream",
     "text": [
      "Enter time in minutes 200\n"
     ]
    },
    {
     "name": "stdout",
     "output_type": "stream",
     "text": [
      "Hours= 3\n",
      "Minutes= 20\n"
     ]
    }
   ],
   "source": [
    "min=int(input(\"Enter time in minutes\"))\n",
    "h=min//60\n",
    "m=min%60\n",
    "print(\"Hours=\",h)\n",
    "print(\"Minutes=\",m)"
   ]
  },
  {
   "cell_type": "code",
   "execution_count": null,
   "id": "5a796cfd-a478-424a-81bc-02268f5c5791",
   "metadata": {},
   "outputs": [],
   "source": []
  }
 ],
 "metadata": {
  "kernelspec": {
   "display_name": "Python 3 (ipykernel)",
   "language": "python",
   "name": "python3"
  },
  "language_info": {
   "codemirror_mode": {
    "name": "ipython",
    "version": 3
   },
   "file_extension": ".py",
   "mimetype": "text/x-python",
   "name": "python",
   "nbconvert_exporter": "python",
   "pygments_lexer": "ipython3",
   "version": "3.10.12"
  }
 },
 "nbformat": 4,
 "nbformat_minor": 5
}
